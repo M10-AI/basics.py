{
 "cells": [
  {
   "cell_type": "code",
   "execution_count": 4,
   "metadata": {},
   "outputs": [],
   "source": [
    "\n",
    "\n",
    "\n",
    "presentation = \"jag heter x, jag y katter. min favorit film är z\"\n",
    "\n",
    "x = input(\"\")\n",
    "\n",
    "\n"
   ]
  },
  {
   "cell_type": "code",
   "execution_count": 10,
   "metadata": {},
   "outputs": [],
   "source": [
    "presentation = \"jag heter x, jag y katter. min favorit film är z\"\n",
    "\n",
    "x = input(\"Lana\")\n",
    "y = input(\"gillar\")\n",
    "z = input(\"Conjuring\")\n",
    "\n",
    "print(f\"jag heter {x}, jag {y} katter. min favorit film är {z}\") #f-string\n",
    "\n"
   ]
  },
  {
   "cell_type": "code",
   "execution_count": 12,
   "metadata": {},
   "outputs": [],
   "source": [
    "x = input(\"Sagal\")\n",
    "y = input(\"älskar\")\n",
    "z = input(\"Spiderverse\")\n",
    "\n",
    "print(f\"jag heter {x}, jag {y} katter. min favorit film är {z}\") \n",
    "\n",
    "\n"
   ]
  },
  {
   "cell_type": "code",
   "execution_count": 45,
   "metadata": {},
   "outputs": [
    {
     "data": {
      "text/plain": [
       "{'key': 'value', 'key2': 'value2'}"
      ]
     },
     "execution_count": 45,
     "metadata": {},
     "output_type": "execute_result"
    }
   ],
   "source": [
    "list1 = [\"string1\", 1, 3.4, True] #blandade datatyper, mutable\n",
    "# 0,1,2,3 \n",
    "\n",
    "tuple1 = (1,2,3,\"4\")\n",
    "\n",
    "tuple1\n",
    "\n",
    "dict1 = {\"familj\": {\"pappa\":\"papa\", \n",
    "                    \"mamma\": \"mam1\"},\n",
    "                    \n",
    "                    }\n",
    "\n",
    "\n",
    "#print(dict1)\n",
    "\n",
    "set1 = {1,2,3}\n",
    "\n",
    "\n",
    "dict3 = {\"key\" : \"value\", \"key2\" : \"value2\"}\n",
    "\n",
    "dict3\n"
   ]
  },
  {
   "cell_type": "code",
   "execution_count": 43,
   "metadata": {},
   "outputs": [
    {
     "name": "stdout",
     "output_type": "stream",
     "text": [
      "Biryani\n"
     ]
    }
   ],
   "source": [
    "\n",
    "sagal = \"Somalia\"\n",
    "lana = \"Erbil\"\n",
    "qasim = \"Pakistan\"\n",
    "\n",
    "\n",
    "person = qasim\n",
    "\n",
    "if person == sagal:\n",
    "    print(\"Sambusa\")\n",
    "\n",
    "elif person == qasim:\n",
    "    print(\"Biryani\")\n",
    "\n",
    "else:\n",
    "    print(\"Fazulia\")\n",
    "\n",
    "\n",
    "\n"
   ]
  },
  {
   "cell_type": "code",
   "execution_count": 47,
   "metadata": {},
   "outputs": [
    {
     "data": {
      "text/plain": [
       "'Maghrib'"
      ]
     },
     "execution_count": 47,
     "metadata": {},
     "output_type": "execute_result"
    }
   ],
   "source": [
    "\n",
    "\n",
    "times = {\n",
    "         5.26: \"Fajr\",\n",
    "         11.56: \"Dhuhr\",\n",
    "         1.43: \"Asr\",\n",
    "         4.09: \"Maghrib\",\n",
    "         6.17: \"Isha\"\n",
    "         }\n",
    "\n",
    "\n",
    "\n",
    "times[4.09]\n",
    "\n"
   ]
  },
  {
   "cell_type": "code",
   "execution_count": 56,
   "metadata": {},
   "outputs": [
    {
     "name": "stdout",
     "output_type": "stream",
     "text": [
      "0 2 4 6 "
     ]
    }
   ],
   "source": [
    "\n",
    "# for (k,v) in times.items():\n",
    "#     print(k, \"eller\" , v)\n",
    "\n",
    "for i in range(0,7,2):\n",
    "    print(i, end=\" \")\n",
    "\n",
    "\n"
   ]
  },
  {
   "cell_type": "code",
   "execution_count": 94,
   "metadata": {},
   "outputs": [
    {
     "name": "stdout",
     "output_type": "stream",
     "text": [
      "Min ålder är 7, 10, 12\n"
     ]
    }
   ],
   "source": [
    "\n",
    "\n",
    "def fun(x,y):\n",
    "    \n",
    "    ans = x + y\n",
    "\n",
    "    return ans, ans+3, ans+5\n",
    "\n",
    "\n",
    "age1,age2,age3 = fun(3,4)\n",
    "\n",
    "\n",
    "print(f\"Min ålder är {age1}, {age2}, {age3}\")\n",
    "\n",
    "\n"
   ]
  },
  {
   "cell_type": "code",
   "execution_count": 81,
   "metadata": {},
   "outputs": [
    {
     "data": {
      "text/plain": [
       "3.0"
      ]
     },
     "execution_count": 81,
     "metadata": {},
     "output_type": "execute_result"
    }
   ],
   "source": [
    "\n",
    "def addition(a, b):\n",
    "    return a + b\n",
    "\n",
    "\n",
    "\n",
    "def subtraction(a, b):\n",
    "    return a - b\n",
    "\n",
    "\n",
    "\n",
    "def multiplication(a, b):\n",
    "    return a * b\n",
    "\n",
    "def division(a,b):\n",
    "    return a / b\n",
    "\n",
    "\n",
    "division(9, 3)"
   ]
  },
  {
   "cell_type": "code",
   "execution_count": 105,
   "metadata": {},
   "outputs": [
    {
     "name": "stdout",
     "output_type": "stream",
     "text": [
      "Välkommen till menyn, vad vill du börja med?\n",
      "[1]addition, [2]subtraction, [3]multiplication, [4]division\n",
      "Vilka siffror vill du lägga till?\n"
     ]
    },
    {
     "data": {
      "text/plain": [
       "2"
      ]
     },
     "execution_count": 105,
     "metadata": {},
     "output_type": "execute_result"
    }
   ],
   "source": [
    "\n",
    "def meny():\n",
    "    print (\"Välkommen till menyn, vad vill du börja med?\")\n",
    "    print(\"[1]addition, [2]subtraction, [3]multiplication, [4]division\")\n",
    "    \n",
    "    operation = input()\n",
    "    if operation == \"1\":\n",
    "        print(\"Vilka siffror vill du lägga till?\")\n",
    "        a = int(input())\n",
    "        b = int(input())\n",
    "        return(addition(a,b))\n",
    "    if operation == \"2\":\n",
    "        print(\"Vilka siffror vill du lägga till?\")\n",
    "        a = int(input())\n",
    "        b = int(input())\n",
    "        return(subtraction(a,b))\n",
    "    if operation == \"3\":\n",
    "        print(\"Vilka siffror vill du lägga till?\")\n",
    "        a = int(input())\n",
    "        b = int(input())\n",
    "        return(multiplication(a,b))\n",
    "    if operation == \"4\":\n",
    "        print(\"Vilka siffror vill du lägga till?\")\n",
    "        a = int(input())\n",
    "        b = int(input())\n",
    "        return(division(a,b))\n",
    "\n",
    "        \n",
    "   \n",
    "    \n",
    "\n",
    "\n",
    "meny()"
   ]
  },
  {
   "cell_type": "code",
   "execution_count": 108,
   "metadata": {},
   "outputs": [
    {
     "name": "stdout",
     "output_type": "stream",
     "text": [
      "Välkommen till miniräkaren\n",
      "Du har fyra val att göra för att beräkna valfria tal\n",
      "Lägga till valfria siffror\n"
     ]
    },
    {
     "data": {
      "text/plain": [
       "3.0"
      ]
     },
     "execution_count": 108,
     "metadata": {},
     "output_type": "execute_result"
    }
   ],
   "source": [
    "\n",
    "\n",
    "def nav():\n",
    "    print(f\"Välkommen till miniräkaren\")\n",
    "    print(f\"Du har fyra val att göra för att beräkna valfria tal\")\n",
    "   \n",
    "    calculate = \"[0]addition, [1]subtraction, [2]multiplication, [3]division\"\n",
    "\n",
    "    calculate = input()\n",
    "    if calculate == \"0\":\n",
    "        print(\"Lägga till valfria siffror\")\n",
    "        a = int (input())\n",
    "        b = int (input())\n",
    "        return (addition(a,b))\n",
    "    \n",
    "    if calculate == \"1\":\n",
    "        print(\"Lägga till valfria siffror\")\n",
    "        a = int (input())\n",
    "        b = int (input())\n",
    "        return (subtraction(a,b))\n",
    "        \n",
    "    if calculate == \"2\":\n",
    "        print(\"Lägga till valfria siffror\")\n",
    "        a = int (input())\n",
    "        b = int (input())\n",
    "        return (multiplication(a,b)) \n",
    "            \n",
    "    if calculate == \"3\":\n",
    "        print(\"Lägga till valfria siffror\")\n",
    "        a = int (input())\n",
    "        b = int (input())\n",
    "        return (division(a,b))\n",
    "\n",
    "nav()\n",
    "\n",
    "    "
   ]
  },
  {
   "cell_type": "code",
   "execution_count": null,
   "metadata": {},
   "outputs": [
    {
     "name": "stdout",
     "output_type": "stream",
     "text": [
      "Välkommen till miniräkaren\n",
      "Du har fyra val att göra för att beräkna valfria tal\n",
      "[0]addition, [1]subtraction, [2]multiplication, [3]division\n",
      "Lägga till valfria siffror\n"
     ]
    },
    {
     "data": {
      "text/plain": [
       "1.0"
      ]
     },
     "execution_count": 111,
     "metadata": {},
     "output_type": "execute_result"
    }
   ],
   "source": [
    "\n",
    "\n",
    "def nav():\n",
    "    print(f\"Välkommen till miniräkaren\")\n",
    "    print(f\"Du har fyra val att göra för att beräkna valfria tal\")   \n",
    "    print(\"[0]addition, [1]subtraction, [2]multiplication, [3]division\")\n",
    "\n",
    "# # # #\n",
    "\n",
    "    operation = input()\n",
    "    print(\"Lägga till valfria siffror\")\n",
    "\n",
    "    a = int (input())\n",
    "    b = int (input())\n",
    "\n",
    "    if operation == \"0\":\n",
    "        res = addition(a,b)\n",
    "    \n",
    "    if operation == \"1\":\n",
    "        res = subtraction(a,b)\n",
    "        \n",
    "    if operation == \"2\":\n",
    "        res = multiplication(a,b)\n",
    "            \n",
    "    if operation == \"3\":\n",
    "        res = division(a,b)\n",
    "\n",
    "    return res\n",
    "\n",
    "nav()\n",
    "\n",
    "    "
   ]
  }
 ],
 "metadata": {
  "kernelspec": {
   "display_name": "Python 3",
   "language": "python",
   "name": "python3"
  },
  "language_info": {
   "codemirror_mode": {
    "name": "ipython",
    "version": 3
   },
   "file_extension": ".py",
   "mimetype": "text/x-python",
   "name": "python",
   "nbconvert_exporter": "python",
   "pygments_lexer": "ipython3",
   "version": "3.13.0"
  }
 },
 "nbformat": 4,
 "nbformat_minor": 2
}

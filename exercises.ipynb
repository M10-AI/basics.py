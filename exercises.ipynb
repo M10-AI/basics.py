{
 "cells": [
  {
   "cell_type": "markdown",
   "metadata": {},
   "source": [
    "## Ex. 1\n",
    "#### *Write a code to return True if the list’s first and last numbers are the same. If the numbers are different, return False.*  \n",
    "  \n",
    "#### *Expected output:*\n",
    "   \n",
    "    \n",
    "Given list: [15, 25, 35, 45, 15]  \n",
    "result is True\n",
    "\n",
    "Given list: [70, 60, 30, 70, 30]  \n",
    "result is False  \n",
    "___"
   ]
  },
  {
   "cell_type": "markdown",
   "metadata": {},
   "source": [
    "## Ex.2\n",
    "\n",
    "#### *Write a program that takes an integer input from the user and checks if the number is even or odd.*  \n",
    "#### *Expected output*:  \n",
    "  \n",
    "Enter an integer to check if it's even or odd:  \n",
    "7  \n",
    "7 is a odd number  \n",
    "___"
   ]
  },
  {
   "cell_type": "markdown",
   "metadata": {},
   "source": [
    "## Ex. 3 \n",
    "\n",
    "#### *Write a program that takes three numbers as input and prints the largest of the three.*\n",
    "#### *Expected output*:  \n",
    "  \n",
    "Enter the first number:  \n",
    "3  \n",
    "Enter the second number:  \n",
    "5  \n",
    "Enter the third number:  \n",
    "4  \n",
    "The largest number is 5  \n",
    "___"
   ]
  },
  {
   "cell_type": "markdown",
   "metadata": {},
   "source": [
    "## Ex. 4\n",
    "#### *Write a program that takes students score as input and prints their grade as an output(you can choose how much each grade need but try to make it realistic)*  \n",
    "#### *Expected output:*  \n",
    "  \n",
    "Enter the student's score (0-100):  \n",
    "85  \n",
    "Grade: B  \n",
    "  \n",
    "Enter the student's score (0-100):  \n",
    "45  \n",
    "Grade: F  \n",
    "  \n",
    "Enter the student's score (0-100):  \n",
    "105  \n",
    "Invalid score! Please enter a score between 0 and 100"
   ]
  },
  {
   "cell_type": "markdown",
   "metadata": {},
   "source": [
    "## Ex. 5\n",
    "#### *Write a program that checks if a number is divisible by 5 and 3.*\n",
    "#### *Expected output:*\n",
    "  \n",
    "Enter a number to check if it's divisible by 5 and 3:  \n",
    "15  \n",
    "15 is divisible by both 5 and 3  \n",
    "  \n",
    "Enter a number to check if it's divisible by 5 and 3:  \n",
    "10  \n",
    "10 is divisible by 5 only\n",
    "\n",
    "Enter a number to check if it's divisible by 5 and 3:  \n",
    "15  \n",
    "15 is divisible by both 5 and 3  \n",
    "\n"
   ]
  }
 ],
 "metadata": {
  "kernelspec": {
   "display_name": "Python 3",
   "language": "python",
   "name": "python3"
  },
  "language_info": {
   "codemirror_mode": {
    "name": "ipython",
    "version": 3
   },
   "file_extension": ".py",
   "mimetype": "text/x-python",
   "name": "python",
   "nbconvert_exporter": "python",
   "pygments_lexer": "ipython3",
   "version": "3.13.0"
  }
 },
 "nbformat": 4,
 "nbformat_minor": 2
}
